{
 "cells": [
  {
   "cell_type": "code",
   "execution_count": 1,
   "id": "bc5664f2",
   "metadata": {},
   "outputs": [
    {
     "name": "stderr",
     "output_type": "stream",
     "text": [
      "WARNING:root:Limited tf.compat.v2.summary API due to missing TensorBoard installation.\n",
      "WARNING:root:Limited tf.compat.v2.summary API due to missing TensorBoard installation.\n",
      "WARNING:root:Limited tf.compat.v2.summary API due to missing TensorBoard installation.\n",
      "WARNING:root:Limited tf.summary API due to missing TensorBoard installation.\n"
     ]
    },
    {
     "name": "stdout",
     "output_type": "stream",
     "text": [
      "weights loaded\n",
      "classes loaded\n"
     ]
    },
    {
     "data": {
      "text/plain": [
       "None"
      ]
     },
     "metadata": {},
     "output_type": "display_data"
    },
    {
     "name": "stdout",
     "output_type": "stream",
     "text": [
      "WARNING: AutoGraph could not transform <function Model.make_predict_function.<locals>.predict_function at 0xfffe98295ca0> and will run it as-is.\n",
      "Please report this to the TensorFlow team. When filing the bug, set the verbosity to 10 (on Linux, `export AUTOGRAPH_VERBOSITY=10`) and attach the full output.\n",
      "Cause: unsupported operand type(s) for -: 'NoneType' and 'int'\n",
      "To silence this warning, decorate the function with @tf.autograph.experimental.do_not_convert\n"
     ]
    },
    {
     "ename": "SystemExit",
     "evalue": "",
     "output_type": "error",
     "traceback": [
      "An exception has occurred, use %tb to see the full traceback.\n",
      "\u001b[0;31mSystemExit\u001b[0m\n"
     ]
    },
    {
     "name": "stderr",
     "output_type": "stream",
     "text": [
      "/root/miniforge3/envs/tensorflow/lib/python3.8/site-packages/IPython/core/interactiveshell.py:3449: UserWarning: To exit: use 'exit', 'quit', or Ctrl-D.\n",
      "  warn(\"To exit: use 'exit', 'quit', or Ctrl-D.\", stacklevel=1)\n"
     ]
    }
   ],
   "source": [
    "import time\n",
    "import sys\n",
    "\n",
    "sys.argv = ['--video', './input_video.mp4']\n",
    "\n",
    "from absl import app, flags, logging\n",
    "from absl.flags import FLAGS\n",
    "import cv2\n",
    "import tensorflow as tf\n",
    "\n",
    "tf.compat.v1.logging.set_verbosity(tf.compat.v1.logging.ERROR)\n",
    "\n",
    "from yolov3_tf2.models import (\n",
    "    YoloV3, YoloV3Tiny\n",
    ")\n",
    "from yolov3_tf2.dataset import transform_images\n",
    "from yolov3_tf2.utils import draw_outputs\n",
    "from IPython.display import clear_output, Image, display, HTML\n",
    "\n",
    "flags.DEFINE_string('classes', './data/coco.names', 'path to classes file')\n",
    "flags.DEFINE_string('weights', './checkpoints/yolov3.tf',\n",
    "                    'path to weights file')\n",
    "flags.DEFINE_boolean('tiny', False, 'yolov3 or yolov3-tiny')\n",
    "flags.DEFINE_integer('size', 416, 'resize images to')\n",
    "flags.DEFINE_string('video', './input_video.mp4',\n",
    "                    'path to video file or number for webcam)')\n",
    "flags.DEFINE_string('output', None, 'path to output video')\n",
    "flags.DEFINE_string('output_format', 'XVID', 'codec used in VideoWriter when saving video to file')\n",
    "flags.DEFINE_integer('num_classes', 80, 'number of classes in the model')\n",
    "\n",
    "def main(argvs):\n",
    "    config = tf.compat.v1.ConfigProto(intra_op_parallelism_threads=64,  inter_op_parallelism_threads=1)\n",
    "    session = tf.compat.v1.Session(config=config) \n",
    "    tf.compat.v1.keras.backend.set_session(session)\n",
    "\n",
    "    #yolo = YoloV3Tiny(classes=FLAGS.num_classes)\n",
    "    yolo = YoloV3(classes=FLAGS.num_classes)\n",
    "    yolo.load_weights(FLAGS.weights)\n",
    "    print('weights loaded')\n",
    "\n",
    "    class_names = [c.strip() for c in open(FLAGS.classes).readlines()]\n",
    "    print('classes loaded')\n",
    "\n",
    "    times = []\n",
    "\n",
    "    vid = cv2.VideoCapture('input_video.mp4')\n",
    "\n",
    "    display_handle = display(None, display_id=True)\n",
    "    frames = 0\n",
    "    try:\n",
    "        while True:\n",
    "            _, img = vid.read()\n",
    "\n",
    "            if img is None:\n",
    "              break\n",
    "\n",
    "            img_in = cv2.cvtColor(img, cv2.COLOR_BGR2RGB)\n",
    "            img_in = tf.expand_dims(img_in, 0)\n",
    "            img_in = transform_images(img_in, 416)\n",
    "\n",
    "            t1 = time.time()\n",
    "            boxes, scores, classes, nums = yolo.predict(img_in)\n",
    "            t2 = time.time()\n",
    "            times.append(t2-t1)\n",
    "            times = times[-20:]\n",
    "\n",
    "            img = draw_outputs(img, (boxes, scores, classes, nums), class_names)\n",
    "            latency = sum(times)/len(times) * 1000\n",
    "            img = cv2.putText(img, \"Time: {:.2f}ms\".format(latency), (0, 30),\n",
    "                   cv2.FONT_HERSHEY_COMPLEX_SMALL, 1, (0, 0, 255), 2)\n",
    "            scale = 0.7\n",
    "            width = int(img.shape[1] * scale)\n",
    "            height = int(img.shape[0] * scale)\n",
    "            img = cv2.resize(img, (width, height))\n",
    "            _, img = cv2.imencode('.jpeg', img)\n",
    "            display_handle.update(Image(data=img.tobytes()))\n",
    "    except KeyboardInterrupt:\n",
    "        pass\n",
    "    finally:\n",
    "        vid.release()\n",
    "        display_handle.update(None)\n",
    "    \n",
    "app.run(main)\n",
    "\n"
   ]
  },
  {
   "cell_type": "code",
   "execution_count": null,
   "id": "ba97ab7c",
   "metadata": {},
   "outputs": [],
   "source": []
  }
 ],
 "metadata": {
  "kernelspec": {
   "display_name": "Python 3 (ipykernel)",
   "language": "python",
   "name": "python3"
  },
  "language_info": {
   "codemirror_mode": {
    "name": "ipython",
    "version": 3
   },
   "file_extension": ".py",
   "mimetype": "text/x-python",
   "name": "python",
   "nbconvert_exporter": "python",
   "pygments_lexer": "ipython3",
   "version": "3.8.10"
  }
 },
 "nbformat": 4,
 "nbformat_minor": 5
}
